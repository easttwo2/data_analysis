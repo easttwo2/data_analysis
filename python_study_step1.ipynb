{
  "nbformat": 4,
  "nbformat_minor": 0,
  "metadata": {
    "colab": {
      "provenance": [],
      "authorship_tag": "ABX9TyOcnZKef8NgWV2GL39fKwJu",
      "include_colab_link": true
    },
    "kernelspec": {
      "name": "python3",
      "display_name": "Python 3"
    },
    "language_info": {
      "name": "python"
    }
  },
  "cells": [
    {
      "cell_type": "markdown",
      "metadata": {
        "id": "view-in-github",
        "colab_type": "text"
      },
      "source": [
        "<a href=\"https://colab.research.google.com/github/easttwo2/data_analysis/blob/main/python_study_step1.ipynb\" target=\"_parent\"><img src=\"https://colab.research.google.com/assets/colab-badge.svg\" alt=\"Open In Colab\"/></a>"
      ]
    },
    {
      "cell_type": "code",
      "execution_count": null,
      "metadata": {
        "id": "7sMJQMlyndCJ"
      },
      "outputs": [],
      "source": [
        "# 주어진 숫자 n이 양수인지, 음수인지, 또는 0인지 판단해서 출력하세요.\n",
        "\n",
        "n = int(input(\"숫자를 입력하세요: \"))\n",
        "\n",
        "if n > 0:\n",
        "  print(\"양수\")\n",
        "elif n == 0:\n",
        "  print('0')\n",
        "\n",
        "else:\n",
        "  print('음수')\n",
        "\n"
      ]
    },
    {
      "cell_type": "code",
      "source": [
        "# 주어진 숫자 n이 짝수인지 홀수인지 출력하세요.\n",
        "\n",
        "n = int(input(\"숫자를 입력하세요: \"))\n",
        "\n",
        "if (n % 2) == 0:\n",
        "  print('짝수')\n",
        "\n",
        "else:\n",
        "  print('홀수')\n"
      ],
      "metadata": {
        "id": "GKpNe8yNng8z"
      },
      "execution_count": null,
      "outputs": []
    },
    {
      "cell_type": "code",
      "source": [
        "# 두 수 a, b를 비교하여 큰 수를 출력하세요.\n",
        "\n",
        "a = float(input(\"a를 입력하세요: \"))\n",
        "b = float(input(\"b를 입력하세요: \"))\n",
        "\n",
        "\n",
        "if a > b:\n",
        "  print(a)\n",
        "\n",
        "elif a == b:\n",
        "  pirnt('=')\n",
        "\n",
        "else:\n",
        "  print(b)"
      ],
      "metadata": {
        "id": "gFHsxDIbnjC6"
      },
      "execution_count": null,
      "outputs": []
    },
    {
      "cell_type": "code",
      "source": [
        "# 학생의 점수 score를 입력받아 90 이상 A, 80 이상 B, 70 이상 C, 60 이상 D, 나머지 F를 출력하세요.\n",
        "\n",
        "score = int(input(\"점수를 입력하세요 (0~100): \"))\n",
        "\n",
        "if score >= 90:\n",
        "  print('A')\n",
        "\n",
        "elif score < 90 and score >= 80:\n",
        "  print('b')\n",
        "\n",
        "elif score < 80 and score >= 70:\n",
        "  print('c')\n",
        "\n",
        "elif score < 70 and score >= 60:\n",
        "  print('d')\n",
        "\n",
        "else:\n",
        "  print('f')"
      ],
      "metadata": {
        "id": "N_rfU-WEnjxP"
      },
      "execution_count": null,
      "outputs": []
    },
    {
      "cell_type": "code",
      "source": [
        " 리스트 nums = [12, 5, 8, 130, 44]에서 10보다 큰 수만 골라 새 리스트에 담아 출력하세요.\n",
        "\n",
        "nums = [12, 5, 8, 130, 44]\n",
        "big = []\n",
        "\n",
        "\n",
        "for i in nums:\n",
        "\n",
        "  if i > 10:\n",
        "\n",
        "    big.append(i)\n",
        "\n",
        "print(big)\n"
      ],
      "metadata": {
        "id": "GT8MKIwhns7M"
      },
      "execution_count": null,
      "outputs": []
    },
    {
      "cell_type": "code",
      "source": [
        "#1부터 5까지 숫자를 출력하세요.\n",
        "\n",
        "for i in range(1,6):\n",
        "\n",
        "  print(i)"
      ],
      "metadata": {
        "id": "A8v_kd9knujF"
      },
      "execution_count": null,
      "outputs": []
    },
    {
      "cell_type": "code",
      "source": [
        "# 리스트 [1, 2, 3, 4, 5]의 각 요소를 출력하세요.\n",
        "\n",
        "a = [1,2,3,4,5]\n",
        "\n",
        "for i in a:\n",
        "\n",
        "  print(i)"
      ],
      "metadata": {
        "id": "4ek_N0MRnvRc"
      },
      "execution_count": null,
      "outputs": []
    }
  ]
}