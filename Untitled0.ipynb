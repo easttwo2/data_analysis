{
  "nbformat": 4,
  "nbformat_minor": 0,
  "metadata": {
    "colab": {
      "provenance": [],
      "authorship_tag": "ABX9TyNR0KxyNIiKqiaXIPY7wniB",
      "include_colab_link": true
    },
    "kernelspec": {
      "name": "python3",
      "display_name": "Python 3"
    },
    "language_info": {
      "name": "python"
    }
  },
  "cells": [
    {
      "cell_type": "markdown",
      "metadata": {
        "id": "view-in-github",
        "colab_type": "text"
      },
      "source": [
        "<a href=\"https://colab.research.google.com/github/easttwo2/data_analysis/blob/main/Untitled0.ipynb\" target=\"_parent\"><img src=\"https://colab.research.google.com/assets/colab-badge.svg\" alt=\"Open In Colab\"/></a>"
      ]
    },
    {
      "cell_type": "code",
      "execution_count": null,
      "metadata": {
        "colab": {
          "base_uri": "https://localhost:8080/"
        },
        "id": "hzCSfDmc9sak",
        "outputId": "5bde6c93-a7f3-44d7-bacc-58da828ffb3b"
      },
      "outputs": [
        {
          "output_type": "stream",
          "name": "stdout",
          "text": [
            "숫자를 입력하세요: -6\n",
            "음수\n"
          ]
        }
      ],
      "source": [
        "# 주어진 숫자 n이 양수인지, 음수인지, 또는 0인지 판단해서 출력하세요.\n",
        "\n",
        "n = int(input(\"숫자를 입력하세요: \"))\n",
        "\n",
        "if n > 0:\n",
        "  print(\"양수\")\n",
        "elif n == 0:\n",
        "  print('0')\n",
        "\n",
        "else:\n",
        "  print('음수')\n",
        "\n"
      ]
    },
    {
      "cell_type": "code",
      "source": [],
      "metadata": {
        "id": "3oQy1h2NT-ox"
      },
      "execution_count": null,
      "outputs": []
    },
    {
      "cell_type": "code",
      "source": [],
      "metadata": {
        "id": "Jj3UzLaaLzj6"
      },
      "execution_count": null,
      "outputs": []
    },
    {
      "cell_type": "code",
      "source": [
        "# 주어진 숫자 n이 짝수인지 홀수인지 출력하세요.\n",
        "\n",
        "n = int(input(\"숫자를 입력하세요: \"))\n",
        "\n",
        "if (n % 2) == 0:\n",
        "  print('짝수')\n",
        "\n",
        "else:\n",
        "  print('홀수')\n",
        "\n"
      ],
      "metadata": {
        "colab": {
          "base_uri": "https://localhost:8080/"
        },
        "id": "Q7JftFzY-pdm",
        "outputId": "60bc633c-3278-40b2-8646-e086b42f0b0d"
      },
      "execution_count": null,
      "outputs": [
        {
          "output_type": "stream",
          "name": "stdout",
          "text": [
            "숫자를 입력하세요: 7\n",
            "홀수\n"
          ]
        }
      ]
    },
    {
      "cell_type": "code",
      "source": [
        "# 두 수 a, b를 비교하여 큰 수를 출력하세요.\n",
        "\n",
        "a = float(input(\"a를 입력하세요: \"))\n",
        "b = float(input(\"b를 입력하세요: \"))\n",
        "\n",
        "\n",
        "if a > b:\n",
        "  print(a)\n",
        "\n",
        "elif a == b:\n",
        "  pirnt('=')\n",
        "\n",
        "else:\n",
        "  print(b)"
      ],
      "metadata": {
        "colab": {
          "base_uri": "https://localhost:8080/"
        },
        "id": "TDokac5B_rlu",
        "outputId": "0de46449-8337-45e2-8df5-e2c3d4307cfd"
      },
      "execution_count": null,
      "outputs": [
        {
          "output_type": "stream",
          "name": "stdout",
          "text": [
            "a를 입력하세요: 5\n",
            "b를 입력하세요: 8\n",
            "8.0\n"
          ]
        }
      ]
    },
    {
      "cell_type": "code",
      "source": [
        "# 학생의 점수 score를 입력받아 90 이상 A, 80 이상 B, 70 이상 C, 60 이상 D, 나머지 F를 출력하세요.\n",
        "\n",
        "score = int(input(\"점수를 입력하세요 (0~100): \"))\n",
        "\n",
        "if score >= 90:\n",
        "  print('A')\n",
        "\n",
        "elif score < 90 and score >= 80:\n",
        "  print('b')\n",
        "\n",
        "elif score < 80 and score >= 70:\n",
        "  print('c')\n",
        "\n",
        "elif score < 70 and score >= 60:\n",
        "  print('d')\n",
        "\n",
        "else:\n",
        "  print('f')\n",
        "\n"
      ],
      "metadata": {
        "colab": {
          "base_uri": "https://localhost:8080/"
        },
        "id": "K1Yn2qVqAF9u",
        "outputId": "a1da3510-45a6-4dd2-9794-13c5d116ad7c"
      },
      "execution_count": null,
      "outputs": [
        {
          "output_type": "stream",
          "name": "stdout",
          "text": [
            "점수를 입력하세요 (0~100): 4\n",
            "f\n"
          ]
        }
      ]
    },
    {
      "cell_type": "code",
      "source": [
        "# 리스트 nums = [12, 5, 8, 130, 44]에서 10보다 큰 수만 골라 새 리스트에 담아 출력하세요.\n",
        "\n",
        "nums = [12, 5, 8, 130, 44]\n",
        "big = []\n",
        "\n",
        "\n",
        "for i in nums:\n",
        "\n",
        "  if i > 10:\n",
        "\n",
        "    big.append(i)\n",
        "\n",
        "print(big)\n",
        "\n"
      ],
      "metadata": {
        "colab": {
          "base_uri": "https://localhost:8080/"
        },
        "id": "OCJeuqFsA7J4",
        "outputId": "582e48b9-1b27-4d74-e61f-2200b5c4faa3"
      },
      "execution_count": null,
      "outputs": [
        {
          "output_type": "stream",
          "name": "stdout",
          "text": [
            "[12, 130, 44]\n"
          ]
        }
      ]
    },
    {
      "cell_type": "code",
      "source": [
        "#1부터 5까지 숫자를 출력하세요.\n",
        "\n",
        "for i in range(1,6):\n",
        "\n",
        "  print(i)"
      ],
      "metadata": {
        "colab": {
          "base_uri": "https://localhost:8080/"
        },
        "id": "S8W8d_4gCQvt",
        "outputId": "adadf9c3-46eb-494f-fc7c-cf17549fd7f8"
      },
      "execution_count": null,
      "outputs": [
        {
          "output_type": "stream",
          "name": "stdout",
          "text": [
            "1\n",
            "2\n",
            "3\n",
            "4\n",
            "5\n"
          ]
        }
      ]
    },
    {
      "cell_type": "code",
      "source": [
        "# 리스트 [1, 2, 3, 4, 5]의 각 요소를 출력하세요.\n",
        "\n",
        "a = [1,2,3,4,5]\n",
        "\n",
        "for i in a:\n",
        "\n",
        "  print(i)"
      ],
      "metadata": {
        "colab": {
          "base_uri": "https://localhost:8080/"
        },
        "id": "6q8GPc2bCgpS",
        "outputId": "e2d090cd-19f1-489a-923a-27c136b85963"
      },
      "execution_count": null,
      "outputs": [
        {
          "output_type": "stream",
          "name": "stdout",
          "text": [
            "1\n",
            "2\n",
            "3\n",
            "4\n",
            "5\n"
          ]
        }
      ]
    },
    {
      "cell_type": "code",
      "source": [
        "# 리스트 [2, 4, 6, 8, 10]에 들어있는 수들의 합계를 구해 출력하세요.\n",
        "\n",
        "nums = [2, 4, 6, 8, 10]\n",
        "\n",
        "total = 0\n",
        "\n",
        "for i in nums:\n",
        "\n",
        "\n",
        "\n",
        "  total += i\n",
        "\n",
        "\n",
        "\n",
        "print(total)"
      ],
      "metadata": {
        "colab": {
          "base_uri": "https://localhost:8080/"
        },
        "id": "HXlfOff7C1b1",
        "outputId": "04517087-d510-4fc7-c4bd-70fac7ed28b0"
      },
      "execution_count": null,
      "outputs": [
        {
          "output_type": "stream",
          "name": "stdout",
          "text": [
            "30\n"
          ]
        }
      ]
    },
    {
      "cell_type": "code",
      "source": [
        "# 1부터 10까지 숫자 중에서 짝수만 출력하세요.\n",
        "\n",
        "for i in range(1,11):\n",
        "\n",
        "  if i % 2 == 0:\n",
        "\n",
        "    print(i)"
      ],
      "metadata": {
        "colab": {
          "base_uri": "https://localhost:8080/"
        },
        "id": "GfzMlnKXDdZY",
        "outputId": "1c0e3363-fbab-4bb9-d390-116929c5e2c4"
      },
      "execution_count": null,
      "outputs": [
        {
          "output_type": "stream",
          "name": "stdout",
          "text": [
            "2\n",
            "4\n",
            "6\n",
            "8\n",
            "10\n"
          ]
        }
      ]
    },
    {
      "cell_type": "code",
      "source": [
        "# 두 수의 합\n",
        "# 함수명: add(a, b)\n",
        "# 설명: 두 개의 숫자 a, b를 받아서 더한 결과를 반환하세요.\n",
        "\n",
        "def add(a,b):\n",
        "\n",
        "  q = a + b\n",
        "\n",
        "  return q\n",
        "\n",
        "\n",
        "add(1,30)"
      ],
      "metadata": {
        "colab": {
          "base_uri": "https://localhost:8080/"
        },
        "id": "aI3db3rOL1lO",
        "outputId": "77e47587-c02f-4f1b-bf1e-840b6ebecfbf"
      },
      "execution_count": null,
      "outputs": [
        {
          "output_type": "execute_result",
          "data": {
            "text/plain": [
              "31"
            ]
          },
          "metadata": {},
          "execution_count": 2
        }
      ]
    },
    {
      "cell_type": "code",
      "source": [
        "#제곱 함수\n",
        "\n",
        "#함수명: square(n)\n",
        "\n",
        "#설명: 정수 n을 입력받아 n의 제곱(n * n)을 반환하는 함수를 작성하세요.\n",
        "\n",
        "\n",
        "def square(n):\n",
        "\n",
        "  a = n**n\n",
        "\n",
        "  return a\n",
        "\n",
        "square(3)"
      ],
      "metadata": {
        "colab": {
          "base_uri": "https://localhost:8080/"
        },
        "id": "UYlnizvCMXCe",
        "outputId": "fefd9c88-e780-4fb8-fbbd-7a40aae2ffec"
      },
      "execution_count": null,
      "outputs": [
        {
          "output_type": "execute_result",
          "data": {
            "text/plain": [
              "27"
            ]
          },
          "metadata": {},
          "execution_count": 3
        }
      ]
    },
    {
      "cell_type": "code",
      "source": [
        "#짝수 판별 함수\n",
        "\n",
        "#함수명: is_even(n)\n",
        "\n",
        "#설명: 정수 n을 입력받아 짝수이면 True, 홀수이면 False를 반환하는 함수를 작성하세요.\n",
        "\n",
        "def is_even(n):\n",
        "\n",
        "  if n % 2 == 0:\n",
        "    print(\"true\")\n",
        "\n",
        "  else:\n",
        "    print(\"false\")\n",
        "\n",
        "  return n\n",
        "\n",
        "\n",
        "n = int(input(\"n을 입력하세요\"))\n",
        "is_even(n)\n",
        "\n"
      ],
      "metadata": {
        "colab": {
          "base_uri": "https://localhost:8080/"
        },
        "id": "RHBoGLHbMpbO",
        "outputId": "f81d5930-8243-4b15-d0ac-b2a0af586bd9"
      },
      "execution_count": null,
      "outputs": [
        {
          "output_type": "stream",
          "name": "stdout",
          "text": [
            "n을 입력하세요7\n",
            "false\n"
          ]
        },
        {
          "output_type": "execute_result",
          "data": {
            "text/plain": [
              "7"
            ]
          },
          "metadata": {},
          "execution_count": 7
        }
      ]
    },
    {
      "cell_type": "code",
      "source": [
        "#인사 출력 함수\n",
        "\n",
        "#함수명: greet(name)\n",
        "\n",
        "#설명: 문자열 name을 입력받아 \"Hello, {name}!\" 형식으로 인사를 출력하는(프린트하는) 함수를 작성하세요.\n",
        "\n",
        "def greet(name):\n",
        "\n",
        "  print(f\"hello, {name}!\")\n",
        "\n",
        "\n",
        "\n",
        "\n",
        "\n",
        "\n",
        "name = str(input(\"이름을 입력하세요\"))\n",
        "\n",
        "greet(name)"
      ],
      "metadata": {
        "colab": {
          "base_uri": "https://localhost:8080/"
        },
        "id": "rEdRsNQOOD0W",
        "outputId": "b9c1f4b8-b874-4b52-d829-2556a48d73be"
      },
      "execution_count": null,
      "outputs": [
        {
          "output_type": "stream",
          "name": "stdout",
          "text": [
            "이름을 입력하세요동건\n",
            "hello, 동건!\n"
          ]
        }
      ]
    },
    {
      "cell_type": "code",
      "source": [
        "#팩토리얼 함수\n",
        "\n",
        "#함수명: factorial(n)\n",
        "\n",
        "#설명: 자연수 n을 입력받아 n!(팩토리얼)을 반복문을 사용해 계산하여 반환하는 함수를 작성하세요.\n",
        "\n",
        "def factorial(n):\n",
        "\n",
        "  total = 1\n",
        "\n",
        "  for i in range(1,n+1):\n",
        "\n",
        "\n",
        "\n",
        "    total *= i\n",
        "\n",
        "  return total\n",
        "\n",
        "\n",
        "n = int(input(\"숫자를 입력하세요\"))\n",
        "\n",
        "factorial(n)\n",
        "\n",
        "\n"
      ],
      "metadata": {
        "colab": {
          "base_uri": "https://localhost:8080/"
        },
        "id": "8zrtxsPrPLSd",
        "outputId": "6e9b81df-ace6-44c5-d120-a463e73698b5"
      },
      "execution_count": null,
      "outputs": [
        {
          "name": "stdout",
          "output_type": "stream",
          "text": [
            "숫자를 입력하세요4\n"
          ]
        },
        {
          "output_type": "execute_result",
          "data": {
            "text/plain": [
              "24"
            ]
          },
          "metadata": {},
          "execution_count": 16
        }
      ]
    },
    {
      "cell_type": "code",
      "source": [
        "# 양수·음수 개수 세기\n",
        "# 정수 리스트 nums를 받아 양수와 음수의 개수를 튜플\n",
        "#(pos_count, neg_count)로 반환하는 함수 count_pos_neg(nums)를 작성하세요.\n",
        "# (0은 양수·음수 둘 다 아님)\n",
        "# count_pos_neg([10, -5, 0, 3, -1, 7, -8])\n",
        "\n",
        "def count_pos_neg(nums):\n",
        "\n",
        "  a = 0\n",
        "  b = 0\n",
        "\n",
        "  for i in nums:\n",
        "\n",
        "    if i > 0:\n",
        "\n",
        "      a += 1\n",
        "\n",
        "    elif i == 0:\n",
        "\n",
        "      continue\n",
        "\n",
        "    else:\n",
        "\n",
        "      b += 1\n",
        "\n",
        "  return a, b\n",
        "\n",
        "count_pos_neg([10, -5, 0, 3, -1, 7, -8])\n",
        "\n",
        "\n",
        "\n"
      ],
      "metadata": {
        "colab": {
          "base_uri": "https://localhost:8080/"
        },
        "id": "Jqz1WeDZQq6l",
        "outputId": "ad80494a-2168-41ee-8d03-eabda3719950"
      },
      "execution_count": null,
      "outputs": [
        {
          "output_type": "execute_result",
          "data": {
            "text/plain": [
              "(3, 3)"
            ]
          },
          "metadata": {},
          "execution_count": 26
        }
      ]
    },
    {
      "cell_type": "code",
      "source": [
        "#문제:\n",
        "#1부터 10까지 숫자를 순회할 때, 숫자가 5일 때만 출력을 건너뛰고\n",
        "#나머지는 모두 출력하는 코드를 작성하세요.\n",
        "\n",
        "for i in range(11):\n",
        "\n",
        "  if i == 5:\n",
        "\n",
        "    break\n",
        "\n",
        "  else:\n",
        "\n",
        "    print(i)\n",
        "\n",
        "\n",
        "\n",
        "\n",
        "\n"
      ],
      "metadata": {
        "colab": {
          "base_uri": "https://localhost:8080/"
        },
        "id": "jv8frHEUSNL9",
        "outputId": "501dd786-cc9c-4c22-e53d-c6be9718a02f"
      },
      "execution_count": null,
      "outputs": [
        {
          "output_type": "stream",
          "name": "stdout",
          "text": [
            "0\n",
            "1\n",
            "2\n",
            "3\n",
            "4\n"
          ]
        }
      ]
    },
    {
      "cell_type": "code",
      "source": [
        "# 3. 합격 점수 필터링\n",
        "# 시험 점수 리스트 scores를 받아,\n",
        "#60점 이상인 합격 점수만 모아 새 리스트를 반환하는 함수 filter_pass(scores)를 작성하세요.\n",
        "\n",
        "\n",
        "\n",
        "def filter_pass(score):\n",
        "\n",
        "  lst = []\n",
        "\n",
        "  for i in score:\n",
        "\n",
        "    if i >= 60:\n",
        "\n",
        "      lst.append(i)\n",
        "\n",
        "    else:\n",
        "\n",
        "      continue\n",
        "\n",
        "\n",
        "  return lst\n",
        "\n",
        "\n",
        "\n",
        "score = [55, 67, 49, 90, 60]\n",
        "\n",
        "filter_pass(score)\n",
        "\n",
        "\n"
      ],
      "metadata": {
        "colab": {
          "base_uri": "https://localhost:8080/"
        },
        "id": "u8p34ExlUNwe",
        "outputId": "d0d53f30-ed5a-4e1b-8ab0-4c9bc7366ba3"
      },
      "execution_count": null,
      "outputs": [
        {
          "output_type": "execute_result",
          "data": {
            "text/plain": [
              "[67, 90, 60]"
            ]
          },
          "metadata": {},
          "execution_count": 37
        }
      ]
    },
    {
      "cell_type": "code",
      "source": [
        "# 4. 학점 매기기\n",
        "# 점수 리스트 scores를 받아, 각 점수에 대응하는 학점(A/B/C/D/F)을\n",
        "# 튜플 (score, grade) 형태로 모아 반환하는 함수 assign_grades(scores)를 작성하세요.\n",
        "# 90점 이상: A\n",
        "# 80점 이상: B\n",
        "# 70점 이상: C\n",
        "# 60점 이상: D\n",
        "# 그 외: F\n",
        "\n",
        "\n",
        "def assign_grades(scores):\n",
        "\n",
        "  lst = []\n",
        "\n",
        "  for i in scores:\n",
        "\n",
        "    if i >= 90:\n",
        "\n",
        "      grade = \"a\"\n",
        "\n",
        "    elif i >= 80:\n",
        "\n",
        "      grade = \"b\"\n",
        "\n",
        "    elif i >= 70:\n",
        "\n",
        "      grade = \"c\"\n",
        "\n",
        "    elif i >= 60:\n",
        "\n",
        "      grade = \"d\"\n",
        "\n",
        "    else:\n",
        "\n",
        "      grade = \"f\"\n",
        "\n",
        "\n",
        "    lst.append((i, grade))\n",
        "\n",
        "  return lst\n",
        "\n",
        "for score, grd in assign_grades([95, 82, 74, 61, 50]):\n",
        "    print(f\"{score}점 → {grd}\")\n",
        "\n",
        "\n"
      ],
      "metadata": {
        "colab": {
          "base_uri": "https://localhost:8080/"
        },
        "id": "MQ9AYFl4V9zc",
        "outputId": "9f6e0e06-44f9-48ec-aada-1b2181f239f4"
      },
      "execution_count": null,
      "outputs": [
        {
          "output_type": "stream",
          "name": "stdout",
          "text": [
            "95점 → a\n",
            "82점 → b\n",
            "74점 → c\n",
            "61점 → d\n",
            "50점 → f\n"
          ]
        }
      ]
    },
    {
      "cell_type": "code",
      "source": [
        "# 5. 특정 길이 이상 문자열 필터링\n",
        "# 문자열 리스트 words와 정수 min_len을 받아, 글자 수가 min_len 이상인\n",
        "#단어만 모아 새 리스트로 반환하는 함수 filter_long_strings(words, min_len)를 작성하세요\n",
        "\n",
        "\n",
        "def filter_long_strings(words, min_len):\n",
        "\n",
        "  lst = []\n",
        "\n",
        "  for i in words:\n",
        "    if len(i) >= min_len:\n",
        "\n",
        "      lst.append(i)\n",
        "\n",
        "    else:\n",
        "      continue\n",
        "\n",
        "  return lst\n",
        "\n",
        "\n",
        "filter_long_strings([\"apple\", \"banana\", \"kiwi\", \"cherry\", \"fig\"],6)\n",
        "\n"
      ],
      "metadata": {
        "colab": {
          "base_uri": "https://localhost:8080/"
        },
        "id": "t7DWPlqyZLbS",
        "outputId": "89ea2995-6ed2-4f3d-cde7-374ebcbccefb"
      },
      "execution_count": null,
      "outputs": [
        {
          "output_type": "execute_result",
          "data": {
            "text/plain": [
              "['banana', 'cherry']"
            ]
          },
          "metadata": {},
          "execution_count": 48
        }
      ]
    },
    {
      "cell_type": "code",
      "source": [
        "# 문제 1. Person 클래스 구현\n",
        "# 요구사항\n",
        "# 속성: name (이름), age (나이)\n",
        "# 메서드: introduce()\n",
        "# 출력 예시:\n",
        "\n",
        "\n",
        "class Person:\n",
        "  def __init__(self,name,age):\n",
        "    self.name = name\n",
        "    self.age = age\n",
        "\n",
        "person = Person(\"go\", 13)\n",
        "\n",
        "print(person)\n",
        "\n",
        "print(person.name)\n",
        "print(person.age)"
      ],
      "metadata": {
        "colab": {
          "base_uri": "https://localhost:8080/"
        },
        "id": "rbvk4TPVdpmQ",
        "outputId": "d27c2b0c-018e-4dcb-dc76-399a80d9bd49"
      },
      "execution_count": null,
      "outputs": [
        {
          "output_type": "stream",
          "name": "stdout",
          "text": [
            "<__main__.Person object at 0x7ee7f4afa350>\n",
            "go\n",
            "13\n"
          ]
        }
      ]
    },
    {
      "cell_type": "code",
      "source": [
        "# 4. 학점 매기기\n",
        "# 점수 리스트 scores를 받아, 각 점수에 대응하는 학점(A/B/C/D/F)을 튜플 (score, grade) 형태로 모아 반환하는 함수 assign_grades(scores)를 작성하세요.\n",
        "# 90점 이상: A\n",
        "# 80점 이상: B\n",
        "# 70점 이상: C\n",
        "# 60점 이상: D\n",
        "# 그 외: F\n",
        "# 예시\n",
        "\n",
        "\n",
        "\n",
        "def assign_grades(scores):\n",
        "\n",
        "  lst = []\n",
        "\n",
        "  for i in scores:\n",
        "\n",
        "    if i >= 90:\n",
        "\n",
        "      grade = 'A'\n",
        "\n",
        "    if i >= 80:\n",
        "\n",
        "      grade = 'B'\n",
        "\n",
        "    if i >= 70:\n",
        "\n",
        "      grade = 'C'\n",
        "\n",
        "    if i >= 60:\n",
        "\n",
        "      grade = 'D'\n",
        "\n",
        "    if i >= 50:\n",
        "\n",
        "      grade = 'F'\n",
        "\n",
        "    lst.append((i, grade))\n",
        "\n",
        "  return lst\n",
        "\n",
        "\n",
        "\n",
        "for score, grd in assign_grades([95, 82, 74, 61, 50]):\n",
        "    print(f\"{score}점 → {grd}\")\n",
        "\n"
      ],
      "metadata": {
        "colab": {
          "base_uri": "https://localhost:8080/"
        },
        "id": "Wg3CYKMkT_4a",
        "outputId": "ab4caa15-3a1f-4dd0-c5c3-e5815a032942"
      },
      "execution_count": null,
      "outputs": [
        {
          "output_type": "stream",
          "name": "stdout",
          "text": [
            "95점 → F\n",
            "82점 → F\n",
            "74점 → F\n",
            "61점 → F\n",
            "50점 → F\n"
          ]
        }
      ]
    },
    {
      "cell_type": "code",
      "source": [
        "# 5. 특정 길이 이상 문자열 필터링\n",
        "# 문자열 리스트 words와 정수 min_len을 받아, 글자 수가 min_len 이상인 단어만 모아\n",
        "# 새 리스트로 반환하는 함수 filter_long_strings(words, min_len)를 작성하세요.\n",
        "\n",
        "\n",
        "def filter_long_strings(words, min_len):\n",
        "\n",
        "  lst = []\n",
        "\n",
        "  for i in words:\n",
        "\n",
        "    if len(i) >= min_len:\n",
        "\n",
        "      lst.append(i)\n",
        "\n",
        "    else:\n",
        "      continue\n",
        "\n",
        "  return(lst)\n",
        "fruits = [\"apple\", \"banana\", \"kiwi\", \"cherry\", \"fig\"]\n",
        "\n",
        "print(filter_long_strings(fruits, 4))\n",
        "\n",
        "\n",
        "\n",
        "\n",
        "# 예시\n",
        "fruits = [\"apple\", \"banana\", \"kiwi\", \"cherry\", \"fig\"]\n",
        "print(filter_long_strings(fruits, 5))\n",
        "# 출력: ['apple', 'banana', 'cherry']\n",
        "print(filter_long_strings(fruits, 4))\n",
        "# 출력: ['apple', 'kiwi', 'cherry']"
      ],
      "metadata": {
        "colab": {
          "base_uri": "https://localhost:8080/"
        },
        "id": "1PjjNxsjXWUQ",
        "outputId": "07a057ad-f696-40ab-a489-c63f1723e97e"
      },
      "execution_count": null,
      "outputs": [
        {
          "output_type": "stream",
          "name": "stdout",
          "text": [
            "['apple', 'banana', 'kiwi', 'cherry']\n",
            "['apple', 'banana', 'cherry']\n",
            "['apple', 'banana', 'kiwi', 'cherry']\n"
          ]
        }
      ]
    },
    {
      "cell_type": "code",
      "source": [
        "#Rectangle 클래스 구현\n",
        "#요구사항\n",
        "\n",
        "#속성: width (가로 길이), height (세로 길이)\n",
        "\n",
        "#메서드:\n",
        "\n",
        "#area() : 면적 반환\n",
        "#perimeter() : 둘레(=2*(width+height)) 반환\n",
        "\n",
        "\n",
        "class Rectangle:\n",
        "  def __init__(self, width, height):\n",
        "\n",
        "    self.width = width\n",
        "    self.height = height\n",
        "\n",
        "  def area(self):\n",
        "\n",
        "    return self.width * self.height\n",
        "\n",
        "  def perimeter(self):\n",
        "\n",
        "    return 2 * (self.width + self.height )\n",
        "\n",
        "\n",
        "rectangle = Rectangle(9,8)\n",
        "\n",
        "print(rectangle.area())\n",
        "print(rectangle.perimeter())\n",
        "\n",
        "\n"
      ],
      "metadata": {
        "colab": {
          "base_uri": "https://localhost:8080/"
        },
        "id": "Pus8npcdZO90",
        "outputId": "14192840-efa0-4504-84c5-bdd7f505eeb7"
      },
      "execution_count": null,
      "outputs": [
        {
          "output_type": "stream",
          "name": "stdout",
          "text": [
            "72\n",
            "34\n"
          ]
        }
      ]
    },
    {
      "cell_type": "code",
      "source": [
        "# 문제 3. Circle 클래스 구현\n",
        "# 요구사항\n",
        "#\n",
        "# 속성: radius (반지름)\n",
        "#\n",
        "# 메서드:\n",
        "#\n",
        "# area() : 원의 넓이(πr²) 반환\n",
        "#\n",
        "# circumference() : 원의 둘레(2πr) 반환\n",
        "#\n",
        "# 힌트: import math 후 math.pi 사용\n",
        "\n",
        "import math\n",
        "\n",
        "class Circle:\n",
        "  def __init__(self, radius):\n",
        "\n",
        "    self.radius = radius\n",
        "\n",
        "  def area(self):\n",
        "\n",
        "    return math.pi * (self.radius ** 2)\n",
        "\n",
        "  def circumference(self):\n",
        "\n",
        "    return 2 * math.pi * self.radius\n",
        "\n",
        "circle = Circle(4)\n",
        "\n",
        "print(circle.area())\n",
        "\n",
        "print(circle.circumference())\n"
      ],
      "metadata": {
        "colab": {
          "base_uri": "https://localhost:8080/"
        },
        "id": "0VvJ-cl1dPs3",
        "outputId": "b29ecafe-bde9-45e5-be83-7cf09376c91d"
      },
      "execution_count": null,
      "outputs": [
        {
          "output_type": "stream",
          "name": "stdout",
          "text": [
            "50.26548245743669\n",
            "25.132741228718345\n"
          ]
        }
      ]
    },
    {
      "cell_type": "code",
      "source": [
        "# 문제 4. Student 클래스 구현\n",
        "# 요구사항\n",
        "#\n",
        "# 속성: name (이름), scores (점수 리스트)\n",
        "#\n",
        "# 메서드:\n",
        "#\n",
        "# average_score() : 평균 점수 반환\n",
        "#\n",
        "# print_result() :\n",
        "#\n",
        "# 평균이 60 이상이면 \"합격\", 아니면 \"불합격\" 출력\n",
        "\n",
        "class Student:\n",
        "  def __init__(self, name, scores):\n",
        "\n",
        "    self.name = name\n",
        "    self.scores = scores\n",
        "\n",
        "  def average_score(self):\n",
        "    return sum(self.scores) / len(self.scores)\n",
        "\n",
        "  def print_result(self):\n",
        "\n",
        "    avg = self.average_score()\n",
        "\n",
        "    if avg >= 60:\n",
        "\n",
        "      print(f\"{self.name} 학생의 평균 점수는 {avg:.1f}점입니다.\")\n",
        "\n",
        "    else:\n",
        "\n",
        "      print(f\"{self.name} 학생의 평균 점수는 {avg:.1f}점입니다.\")\n",
        "\n",
        "s1 = Student(\"김영희\", [80, 75, 90])\n",
        "s2 = Student(\"이철수\", [50, 40, 60])\n",
        "\n",
        "s1.print_result()\n",
        "s2.print_result()\n",
        "\n",
        "\n"
      ],
      "metadata": {
        "colab": {
          "base_uri": "https://localhost:8080/"
        },
        "id": "NTE0q4G1ewwX",
        "outputId": "8d041b01-9467-4d38-a324-3b3e98e976bd"
      },
      "execution_count": null,
      "outputs": [
        {
          "output_type": "stream",
          "name": "stdout",
          "text": [
            "김영희 학생의 평균 점수는 81.7점입니다.\n",
            "이철수 학생의 평균 점수는 50.0점입니다.\n"
          ]
        }
      ]
    },
    {
      "cell_type": "code",
      "source": [],
      "metadata": {
        "id": "Kw6iFAqJgfuc"
      },
      "execution_count": null,
      "outputs": []
    }
  ]
}