{
  "nbformat": 4,
  "nbformat_minor": 0,
  "metadata": {
    "colab": {
      "provenance": [],
      "authorship_tag": "ABX9TyM7pss3woaTAIMgFKd4VP0S",
      "include_colab_link": true
    },
    "kernelspec": {
      "name": "python3",
      "display_name": "Python 3"
    },
    "language_info": {
      "name": "python"
    }
  },
  "cells": [
    {
      "cell_type": "markdown",
      "metadata": {
        "id": "view-in-github",
        "colab_type": "text"
      },
      "source": [
        "<a href=\"https://colab.research.google.com/github/easttwo2/data_analysis/blob/main/python_study_step2.ipynb\" target=\"_parent\"><img src=\"https://colab.research.google.com/assets/colab-badge.svg\" alt=\"Open In Colab\"/></a>"
      ]
    },
    {
      "cell_type": "code",
      "execution_count": null,
      "metadata": {
        "id": "zhT0scjJoAPD"
      },
      "outputs": [],
      "source": [
        "# 리스트 [2, 4, 6, 8, 10]에 들어있는 수들의 합계를 구해 출력하세요.\n",
        "\n",
        "nums = [2, 4, 6, 8, 10]\n",
        "\n",
        "total = 0\n",
        "\n",
        "for i in nums:\n",
        "\n",
        "\n",
        "\n",
        "  total += i\n",
        "\n",
        "\n",
        "\n",
        "print(total)"
      ]
    },
    {
      "cell_type": "code",
      "source": [
        "# 1부터 10까지 숫자 중에서 짝수만 출력하세요.\n",
        "\n",
        "for i in range(1,11):\n",
        "\n",
        "  if i % 2 == 0:\n",
        "\n",
        "    print(i)"
      ],
      "metadata": {
        "id": "o-_5KaFRoGtc"
      },
      "execution_count": null,
      "outputs": []
    },
    {
      "cell_type": "code",
      "source": [
        "# 두 수의 합\n",
        "# 함수명: add(a, b)\n",
        "# 설명: 두 개의 숫자 a, b를 받아서 더한 결과를 반환하세요.\n",
        "\n",
        "def add(a,b):\n",
        "\n",
        "  q = a + b\n",
        "\n",
        "  return q\n",
        "\n",
        "\n",
        "add(1,30)"
      ],
      "metadata": {
        "id": "cvr8-dxloIco"
      },
      "execution_count": null,
      "outputs": []
    },
    {
      "cell_type": "code",
      "source": [
        "#제곱 함수\n",
        "\n",
        "#함수명: square(n)\n",
        "\n",
        "#설명: 정수 n을 입력받아 n의 제곱(n * n)을 반환하는 함수를 작성하세요.\n",
        "\n",
        "\n",
        "def square(n):\n",
        "\n",
        "  a = n**n\n",
        "\n",
        "  return a\n",
        "\n",
        "square(3)"
      ],
      "metadata": {
        "id": "IhKQ-TMuotrE"
      },
      "execution_count": null,
      "outputs": []
    },
    {
      "cell_type": "code",
      "source": [
        "#짝수 판별 함수\n",
        "\n",
        "#함수명: is_even(n)\n",
        "\n",
        "#설명: 정수 n을 입력받아 짝수이면 True, 홀수이면 False를 반환하는 함수를 작성하세요.\n",
        "\n",
        "def is_even(n):\n",
        "\n",
        "  if n % 2 == 0:\n",
        "    print(\"true\")\n",
        "\n",
        "  else:\n",
        "    print(\"false\")\n",
        "\n",
        "  return n\n",
        "\n",
        "\n",
        "n = int(input(\"n을 입력하세요\"))\n",
        "is_even(n)"
      ],
      "metadata": {
        "id": "wzl75HavoweQ"
      },
      "execution_count": null,
      "outputs": []
    },
    {
      "cell_type": "code",
      "source": [
        "#인사 출력 함수\n",
        "\n",
        "#함수명: greet(name)\n",
        "\n",
        "#설명: 문자열 name을 입력받아 \"Hello, {name}!\" 형식으로 인사를 출력하는(프린트하는) 함수를 작성하세요.\n",
        "\n",
        "def greet(name):\n",
        "\n",
        "  print(f\"hello, {name}!\")\n",
        "\n",
        "\n",
        "\n",
        "\n",
        "\n",
        "\n",
        "name = str(input(\"이름을 입력하세요\"))\n",
        "\n",
        "greet(name)"
      ],
      "metadata": {
        "id": "KNwmVvhwo1Oq"
      },
      "execution_count": null,
      "outputs": []
    },
    {
      "cell_type": "code",
      "source": [
        "#팩토리얼 함수\n",
        "\n",
        "#함수명: factorial(n)\n",
        "\n",
        "#설명: 자연수 n을 입력받아 n!(팩토리얼)을 반복문을 사용해 계산하여 반환하는 함수를 작성하세요.\n",
        "\n",
        "def factorial(n):\n",
        "\n",
        "  total = 1\n",
        "\n",
        "  for i in range(1,n+1):\n",
        "\n",
        "\n",
        "\n",
        "    total *= i\n",
        "\n",
        "  return total\n",
        "\n",
        "\n",
        "n = int(input(\"숫자를 입력하세요\"))\n",
        "\n",
        "factorial(n)"
      ],
      "metadata": {
        "id": "YAQwv-_9o39a"
      },
      "execution_count": null,
      "outputs": []
    },
    {
      "cell_type": "code",
      "source": [
        "# 양수·음수 개수 세기\n",
        "# 정수 리스트 nums를 받아 양수와 음수의 개수를 튜플\n",
        "#(pos_count, neg_count)로 반환하는 함수 count_pos_neg(nums)를 작성하세요.\n",
        "# (0은 양수·음수 둘 다 아님)\n",
        "# count_pos_neg([10, -5, 0, 3, -1, 7, -8])\n",
        "\n",
        "def count_pos_neg(nums):\n",
        "\n",
        "  a = 0\n",
        "  b = 0\n",
        "\n",
        "  for i in nums:\n",
        "\n",
        "    if i > 0:\n",
        "\n",
        "      a += 1\n",
        "\n",
        "    elif i == 0:\n",
        "\n",
        "      continue\n",
        "\n",
        "    else:\n",
        "\n",
        "      b += 1\n",
        "\n",
        "  return a, b\n",
        "\n",
        "count_pos_neg([10, -5, 0, 3, -1, 7, -8])"
      ],
      "metadata": {
        "id": "-UxPKfHmo60M"
      },
      "execution_count": null,
      "outputs": []
    },
    {
      "cell_type": "code",
      "source": [
        "#문제:\n",
        "#1부터 10까지 숫자를 순회할 때, 숫자가 5일 때만 출력을 건너뛰고\n",
        "#나머지는 모두 출력하는 코드를 작성하세요.\n",
        "\n",
        "for i in range(11):\n",
        "\n",
        "  if i == 5:\n",
        "\n",
        "    break\n",
        "\n",
        "  else:\n",
        "\n",
        "    print(i)\n"
      ],
      "metadata": {
        "id": "2IBK6mFRpFBl"
      },
      "execution_count": null,
      "outputs": []
    },
    {
      "cell_type": "code",
      "source": [
        "# 3. 합격 점수 필터링\n",
        "# 시험 점수 리스트 scores를 받아,\n",
        "#60점 이상인 합격 점수만 모아 새 리스트를 반환하는 함수 filter_pass(scores)를 작성하세요.\n",
        "\n",
        "\n",
        "\n",
        "def filter_pass(score):\n",
        "\n",
        "  lst = []\n",
        "\n",
        "  for i in score:\n",
        "\n",
        "    if i >= 60:\n",
        "\n",
        "      lst.append(i)\n",
        "\n",
        "    else:\n",
        "\n",
        "      continue\n",
        "\n",
        "\n",
        "  return lst\n",
        "\n",
        "\n",
        "\n",
        "score = [55, 67, 49, 90, 60]\n",
        "\n",
        "filter_pass(score)\n"
      ],
      "metadata": {
        "id": "k_0hNK6zpOSE"
      },
      "execution_count": null,
      "outputs": []
    },
    {
      "cell_type": "code",
      "source": [
        "# 4. 학점 매기기\n",
        "# 점수 리스트 scores를 받아, 각 점수에 대응하는 학점(A/B/C/D/F)을\n",
        "# 튜플 (score, grade) 형태로 모아 반환하는 함수 assign_grades(scores)를 작성하세요.\n",
        "# 90점 이상: A\n",
        "# 80점 이상: B\n",
        "# 70점 이상: C\n",
        "# 60점 이상: D\n",
        "# 그 외: F\n",
        "\n",
        "\n",
        "def assign_grades(scores):\n",
        "\n",
        "  lst = []\n",
        "\n",
        "  for i in scores:\n",
        "\n",
        "    if i >= 90:\n",
        "\n",
        "      grade = \"a\"\n",
        "\n",
        "    elif i >= 80:\n",
        "\n",
        "      grade = \"b\"\n",
        "\n",
        "    elif i >= 70:\n",
        "\n",
        "      grade = \"c\"\n",
        "\n",
        "    elif i >= 60:\n",
        "\n",
        "      grade = \"d\"\n",
        "\n",
        "    else:\n",
        "\n",
        "      grade = \"f\"\n",
        "\n",
        "\n",
        "    lst.append((i, grade))\n",
        "\n",
        "  return lst\n",
        "\n",
        "for score, grd in assign_grades([95, 82, 74, 61, 50]):\n",
        "    print(f\"{score}점 → {grd}\")\n"
      ],
      "metadata": {
        "id": "6rsVGmxRpVQ6"
      },
      "execution_count": null,
      "outputs": []
    },
    {
      "cell_type": "code",
      "source": [
        "# 5. 특정 길이 이상 문자열 필터링\n",
        "# 문자열 리스트 words와 정수 min_len을 받아, 글자 수가 min_len 이상인\n",
        "#단어만 모아 새 리스트로 반환하는 함수 filter_long_strings(words, min_len)를 작성하세요\n",
        "\n",
        "\n",
        "def filter_long_strings(words, min_len):\n",
        "\n",
        "  lst = []\n",
        "\n",
        "  for i in words:\n",
        "    if len(i) >= min_len:\n",
        "\n",
        "      lst.append(i)\n",
        "\n",
        "    else:\n",
        "      continue\n",
        "\n",
        "  return lst\n",
        "\n",
        "\n",
        "filter_long_strings([\"apple\", \"banana\", \"kiwi\", \"cherry\", \"fig\"],6)"
      ],
      "metadata": {
        "id": "rKguBo3ppV6n"
      },
      "execution_count": null,
      "outputs": []
    }
  ]
}